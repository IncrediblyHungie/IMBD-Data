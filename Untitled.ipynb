{
 "cells": [
  {
   "cell_type": "code",
   "execution_count": 2,
   "id": "f6c885c3",
   "metadata": {},
   "outputs": [],
   "source": [
    "import pandas as pd\n",
    "\n",
    "# Load the IMDB data into Pandas dataframes\n",
    "title_basics = pd.read_csv(\"title.basics.tsv\", sep=\"\\t\", low_memory=False)\n",
    "title_ratings = pd.read_csv(\"title.ratings.tsv\", sep=\"\\t\")\n",
    "title_akas = pd.read_csv(\"title.akas.tsv\", sep=\"\\t\", low_memory=False)"
   ]
  },
  {
   "cell_type": "code",
   "execution_count": 3,
   "id": "c7559752",
   "metadata": {},
   "outputs": [],
   "source": [
    "# Filter the dataframes based on the stakeholder's specifications\n",
    "filtered_title_basics = title_basics[\n",
    "    (title_basics['titleType'] == 'movie') &\n",
    "    (title_basics['startYear'].apply(lambda x: x.isnumeric() and 2000 <= int(x) <= 2021)) &\n",
    "    (~title_basics['genres'].str.contains(\"Documentary\", na=True)) &\n",
    "    (~title_basics['genres'].isna()) &\n",
    "    (~title_basics['runtimeMinutes'].isna())\n",
    "]\n",
    "\n",
    "filtered_title_akas = title_akas[\n",
    "    (title_akas['titleId'].isin(filtered_title_basics['tconst'])) &\n",
    "    (title_akas['region'] == 'US')\n",
    "]\n",
    "\n",
    "filtered_title_ratings = title_ratings[\n",
    "    title_ratings['tconst'].isin(filtered_title_basics['tconst'])\n",
    "]\n"
   ]
  },
  {
   "cell_type": "code",
   "execution_count": 4,
   "id": "cec2b29e",
   "metadata": {},
   "outputs": [
    {
     "name": "stdout",
     "output_type": "stream",
     "text": [
      "<class 'pandas.core.frame.DataFrame'>\n",
      "Int64Index: 185925 entries, 11636 to 9806237\n",
      "Data columns (total 9 columns):\n",
      " #   Column          Non-Null Count   Dtype \n",
      "---  ------          --------------   ----- \n",
      " 0   tconst          185925 non-null  object\n",
      " 1   titleType       185925 non-null  object\n",
      " 2   primaryTitle    185925 non-null  object\n",
      " 3   originalTitle   185925 non-null  object\n",
      " 4   isAdult         185925 non-null  object\n",
      " 5   startYear       185925 non-null  object\n",
      " 6   endYear         185925 non-null  object\n",
      " 7   runtimeMinutes  185925 non-null  object\n",
      " 8   genres          185925 non-null  object\n",
      "dtypes: object(9)\n",
      "memory usage: 14.2+ MB\n",
      "<class 'pandas.core.frame.DataFrame'>\n",
      "Int64Index: 107178 entries, 200648 to 35735965\n",
      "Data columns (total 8 columns):\n",
      " #   Column           Non-Null Count   Dtype \n",
      "---  ------           --------------   ----- \n",
      " 0   titleId          107178 non-null  object\n",
      " 1   ordering         107178 non-null  int64 \n",
      " 2   title            107178 non-null  object\n",
      " 3   region           107178 non-null  object\n",
      " 4   language         107178 non-null  object\n",
      " 5   types            107178 non-null  object\n",
      " 6   attributes       107178 non-null  object\n",
      " 7   isOriginalTitle  107178 non-null  object\n",
      "dtypes: int64(1), object(7)\n",
      "memory usage: 7.4+ MB\n",
      "<class 'pandas.core.frame.DataFrame'>\n",
      "Int64Index: 116928 entries, 4225 to 1306411\n",
      "Data columns (total 3 columns):\n",
      " #   Column         Non-Null Count   Dtype  \n",
      "---  ------         --------------   -----  \n",
      " 0   tconst         116928 non-null  object \n",
      " 1   averageRating  116928 non-null  float64\n",
      " 2   numVotes       116928 non-null  int64  \n",
      "dtypes: float64(1), int64(1), object(1)\n",
      "memory usage: 3.6+ MB\n"
     ]
    }
   ],
   "source": [
    "# Display .info() for the filtered dataframes\n",
    "filtered_title_basics.info()\n",
    "filtered_title_akas.info()\n",
    "filtered_title_ratings.info()"
   ]
  },
  {
   "cell_type": "code",
   "execution_count": 6,
   "id": "dfd8c298",
   "metadata": {},
   "outputs": [],
   "source": [
    "# Save the filtered dataframes as gzip-compressed csv files in your repository\n",
    "filtered_title_basics.to_csv(\"Data/filtered_title_basics.csv.gz\", index=False, compression=\"gzip\")\n",
    "filtered_title_akas.to_csv(\"Data/filtered_title_akas.csv.gz\", index=False, compression=\"gzip\")\n",
    "filtered_title_ratings.to_csv(\"Data/filtered_title_ratings.csv.gz\", index=False, compression=\"gzip\")"
   ]
  },
  {
   "cell_type": "code",
   "execution_count": null,
   "id": "76a6f34c",
   "metadata": {},
   "outputs": [],
   "source": []
  }
 ],
 "metadata": {
  "kernelspec": {
   "display_name": "Python 3 (ipykernel)",
   "language": "python",
   "name": "python3"
  },
  "language_info": {
   "codemirror_mode": {
    "name": "ipython",
    "version": 3
   },
   "file_extension": ".py",
   "mimetype": "text/x-python",
   "name": "python",
   "nbconvert_exporter": "python",
   "pygments_lexer": "ipython3",
   "version": "3.9.13"
  }
 },
 "nbformat": 4,
 "nbformat_minor": 5
}
